{
  "nbformat": 4,
  "nbformat_minor": 0,
  "metadata": {
    "colab": {
      "provenance": [],
      "authorship_tag": "ABX9TyPw7FBvMzFv6okvKHbCQ1F4",
      "include_colab_link": true
    },
    "kernelspec": {
      "name": "python3",
      "display_name": "Python 3"
    },
    "language_info": {
      "name": "python"
    }
  },
  "cells": [
    {
      "cell_type": "markdown",
      "metadata": {
        "id": "view-in-github",
        "colab_type": "text"
      },
      "source": [
        "<a href=\"https://colab.research.google.com/github/Data-Engineer-Learner/Python/blob/main/LangChain.ipynb\" target=\"_parent\"><img src=\"https://colab.research.google.com/assets/colab-badge.svg\" alt=\"Open In Colab\"/></a>"
      ]
    },
    {
      "cell_type": "code",
      "execution_count": 9,
      "metadata": {
        "id": "JR4V3NWaCX5o"
      },
      "outputs": [],
      "source": [
        "\n",
        "import getpass\n",
        "import os\n",
        "\n",
        "if not os.environ.get(\"OPENAI_API_KEY\"):\n",
        "  os.environ[\"OPENAI_API_KEY\"] = getpass.getpass(\"Enter API key for OpenAI: \")\n",
        "\n",
        "from langchain.chat_models import init_chat_model\n",
        "\n",
        "model = init_chat_model(\"gpt-4o-mini\", model_provider=\"openai\")"
      ]
    },
    {
      "cell_type": "code",
      "source": [
        "responce=model.invoke(\"Hello, world!\")\n",
        "print(f\"{responce.content}\")"
      ],
      "metadata": {
        "colab": {
          "base_uri": "https://localhost:8080/"
        },
        "id": "VofRzHa-C2GE",
        "outputId": "dece47d9-dfa2-436b-a681-68405e58e4a0"
      },
      "execution_count": 11,
      "outputs": [
        {
          "output_type": "stream",
          "name": "stdout",
          "text": [
            "Hello! How can I assist you today?\n"
          ]
        }
      ]
    },
    {
      "cell_type": "code",
      "source": [
        "responce=model.invoke(\"What is the capital of India?\")\n",
        "print(f\"{responce.content}\")"
      ],
      "metadata": {
        "colab": {
          "base_uri": "https://localhost:8080/"
        },
        "id": "NUQV8qHsFOU6",
        "outputId": "18658368-7580-4e3a-fd7d-d5b319a6b861"
      },
      "execution_count": 12,
      "outputs": [
        {
          "output_type": "stream",
          "name": "stdout",
          "text": [
            "The capital of India is New Delhi.\n"
          ]
        }
      ]
    },
    {
      "cell_type": "code",
      "source": [
        "print(os.environ.get(\"OPENAI_API_KEY\"))"
      ],
      "metadata": {
        "colab": {
          "base_uri": "https://localhost:8080/"
        },
        "id": "qOVg-h4EHPoP",
        "outputId": "88a18cb0-325a-41be-cbfb-0dcb29ba2c11"
      },
      "execution_count": 13,
      "outputs": [
        {
          "output_type": "stream",
          "name": "stdout",
          "text": [
            ""
          ]
        }
      ]
    },
    {
      "cell_type": "code",
      "source": [
        "%pip install langchain-opentutorial"
      ],
      "metadata": {
        "colab": {
          "base_uri": "https://localhost:8080/"
        },
        "id": "Q57MHLSzIH_B",
        "outputId": "8570c25d-2c7b-4742-d22d-afa06c32cab1"
      },
      "execution_count": 14,
      "outputs": [
        {
          "output_type": "stream",
          "name": "stdout",
          "text": [
            "Collecting langchain-opentutorial\n",
            "  Downloading langchain_opentutorial-0.0.8-py3-none-any.whl.metadata (686 bytes)\n",
            "Requirement already satisfied: requests in /usr/local/lib/python3.11/dist-packages (from langchain-opentutorial) (2.32.3)\n",
            "Requirement already satisfied: charset-normalizer<4,>=2 in /usr/local/lib/python3.11/dist-packages (from requests->langchain-opentutorial) (3.4.2)\n",
            "Requirement already satisfied: idna<4,>=2.5 in /usr/local/lib/python3.11/dist-packages (from requests->langchain-opentutorial) (3.10)\n",
            "Requirement already satisfied: urllib3<3,>=1.21.1 in /usr/local/lib/python3.11/dist-packages (from requests->langchain-opentutorial) (2.4.0)\n",
            "Requirement already satisfied: certifi>=2017.4.17 in /usr/local/lib/python3.11/dist-packages (from requests->langchain-opentutorial) (2025.4.26)\n",
            "Downloading langchain_opentutorial-0.0.8-py3-none-any.whl (22 kB)\n",
            "Installing collected packages: langchain-opentutorial\n",
            "Successfully installed langchain-opentutorial-0.0.8\n"
          ]
        }
      ]
    },
    {
      "cell_type": "code",
      "source": [
        "# !pip install langchain-opentutorial\n",
        "\n",
        "from langchain_opentutorial import package\n",
        "from langchain_opentutorial import set_env\n",
        "from dotenv import load_dotenv\n",
        "\n",
        "package.install(\n",
        "    [\"langchain\",\"langchain_openai\"],\n",
        "    verbose=False,\n",
        "    upgrade=False,\n",
        "    )\n",
        "\n",
        "set_env(\n",
        "    {\n",
        "    # OPENAI_API_KEY=\"\",\n",
        "           }\n",
        "    )\n",
        "\n",
        "load_dotenv()\n",
        "\n",
        "\n"
      ],
      "metadata": {
        "colab": {
          "base_uri": "https://localhost:8080/"
        },
        "id": "ueGeEwxnI7uj",
        "outputId": "25477d15-1f90-4ec2-f755-20a7b0830161"
      },
      "execution_count": 16,
      "outputs": [
        {
          "output_type": "stream",
          "name": "stdout",
          "text": [
            "Environment variables have been set successfully.\n"
          ]
        },
        {
          "output_type": "execute_result",
          "data": {
            "text/plain": [
              "False"
            ]
          },
          "metadata": {},
          "execution_count": 16
        }
      ]
    },
    {
      "cell_type": "code",
      "source": [
        "from langchain_openai import ChatOpenAI\n",
        "\n",
        "llm=ChatOpenAI(\n",
        "    temperature=0,\n",
        "    model_name=\"gpt-4o-mini\"\n",
        ")\n",
        "\n",
        "prompt=\"What is the capital of USA?\"\n",
        "response=llm.invoke(prompt)\n",
        "total_tokens = response.response_metadata[\"token_usage\"][\"total_tokens\"]\n",
        "print(f\"content : {response.content}\\ntotal token : {total_tokens}\")"
      ],
      "metadata": {
        "colab": {
          "base_uri": "https://localhost:8080/"
        },
        "id": "LdC3WgVeMOHp",
        "outputId": "4a50f2df-21b3-4dc8-a9ff-b07c958edfd3"
      },
      "execution_count": 21,
      "outputs": [
        {
          "output_type": "stream",
          "name": "stdout",
          "text": [
            "content : The capital of the United States is Washington, D.C.\n",
            "total token : 26\n"
          ]
        }
      ]
    },
    {
      "cell_type": "code",
      "source": [],
      "metadata": {
        "id": "rKAtqA5yOerk"
      },
      "execution_count": null,
      "outputs": []
    }
  ]
}
